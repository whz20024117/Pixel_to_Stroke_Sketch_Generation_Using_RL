{
 "cells": [
  {
   "cell_type": "code",
   "execution_count": 1,
   "metadata": {},
   "outputs": [
    {
     "name": "stdout",
     "output_type": "stream",
     "text": [
      "WARNING:tensorflow:From /Users/cocowang/Working/RLModel2.0/bus/gan_as_crit_bus/Model_Engr_v2/classifier.py:21: conv2d (from tensorflow.python.layers.convolutional) is deprecated and will be removed in a future version.\n",
      "Instructions for updating:\n",
      "Use keras.layers.conv2d instead.\n",
      "WARNING:tensorflow:From /Users/cocowang/anaconda3/envs/py36/lib/python3.6/site-packages/tensorflow/python/framework/op_def_library.py:263: colocate_with (from tensorflow.python.framework.ops) is deprecated and will be removed in a future version.\n",
      "Instructions for updating:\n",
      "Colocations handled automatically by placer.\n",
      "WARNING:tensorflow:From /Users/cocowang/Working/RLModel2.0/bus/gan_as_crit_bus/Model_Engr_v2/classifier.py:22: dropout (from tensorflow.python.layers.core) is deprecated and will be removed in a future version.\n",
      "Instructions for updating:\n",
      "Use keras.layers.dropout instead.\n",
      "\n",
      "WARNING: The TensorFlow contrib module will not be included in TensorFlow 2.0.\n",
      "For more information, please see:\n",
      "  * https://github.com/tensorflow/community/blob/master/rfcs/20180907-contrib-sunset.md\n",
      "  * https://github.com/tensorflow/addons\n",
      "If you depend on functionality not listed there, please file an issue.\n",
      "\n",
      "WARNING:tensorflow:From /Users/cocowang/anaconda3/envs/py36/lib/python3.6/site-packages/tensorflow/contrib/layers/python/layers/layers.py:1624: flatten (from tensorflow.python.layers.core) is deprecated and will be removed in a future version.\n",
      "Instructions for updating:\n",
      "Use keras.layers.flatten instead.\n",
      "WARNING:tensorflow:From /Users/cocowang/Working/RLModel2.0/bus/gan_as_crit_bus/Model_Engr_v2/classifier.py:28: dense (from tensorflow.python.layers.core) is deprecated and will be removed in a future version.\n",
      "Instructions for updating:\n",
      "Use keras.layers.dense instead.\n",
      "WARNING:tensorflow:From /Users/cocowang/anaconda3/envs/py36/lib/python3.6/site-packages/tensorflow/python/training/saver.py:1266: checkpoint_exists (from tensorflow.python.training.checkpoint_management) is deprecated and will be removed in a future version.\n",
      "Instructions for updating:\n",
      "Use standard file APIs to check for files with this prefix.\n",
      "INFO:tensorflow:Restoring parameters from ../trained_discr/1/model.ckpt\n"
     ]
    }
   ],
   "source": [
    "from agent import StudentAgent\n",
    "import tensorflow as tf\n",
    "from env import CanvasEnvironment\n",
    "import random\n",
    "import utils as U"
   ]
  },
  {
   "cell_type": "code",
   "execution_count": 2,
   "metadata": {},
   "outputs": [],
   "source": [
    "EP_START = 1.0\n",
    "EP_END = 0.001\n",
    "T_EP_END = 100000\n",
    "T_TRAIN_START = 1000\n",
    "MAX_T = 500000"
   ]
  },
  {
   "cell_type": "code",
   "execution_count": 3,
   "metadata": {},
   "outputs": [],
   "source": [
    "sess = tf.InteractiveSession()"
   ]
  },
  {
   "cell_type": "code",
   "execution_count": 4,
   "metadata": {},
   "outputs": [
    {
     "name": "stdout",
     "output_type": "stream",
     "text": [
      "INFO:tensorflow:Restoring parameters from saved_actor_networks/actor-network-6890\n",
      "Successfully loaded: saved_actor_networks/actor-network-6890\n",
      "INFO:tensorflow:Restoring parameters from saved_critic_networks/critic-network-6890\n",
      "Successfully loaded: saved_critic_networks/critic-network-6890\n"
     ]
    }
   ],
   "source": [
    "env = CanvasEnvironment()\n",
    "agent = StudentAgent(sess=sess, t_train_start=T_TRAIN_START, env=env)\n",
    "\n",
    "_global_step = agent.global_step()\n",
    "\n",
    "terminal = True"
   ]
  },
  {
   "cell_type": "code",
   "execution_count": 6,
   "metadata": {
    "scrolled": false
   },
   "outputs": [
    {
     "name": "stdout",
     "output_type": "stream",
     "text": [
      "Global Step: 1901  cost: 0.7995365  q:  1.4155816  score:  0.88964015\n",
      "save actor-network... 2001\n",
      "save critic-network... 2001\n",
      "Global Step: 2001  cost: 0.7864305  q:  1.5874768  score:  0.35266712\n",
      "Global Step: 2101  cost: 0.7934853  q:  2.8620882  score:  0.6180448\n",
      "Global Step: 2201  cost: 0.75672305  q:  1.7033751  score:  0.08270347\n",
      "Global Step: 2301  cost: 1.121457  q:  2.2406466  score:  0.52893615\n",
      "Global Step: 2401  cost: 0.9365154  q:  2.3429995  score:  0.9295526\n",
      "Global Step: 2501  cost: 0.9934622  q:  3.042331  score:  0.9295526\n",
      "Global Step: 2601  cost: 0.72297627  q:  2.5976567  score:  0.17788804\n",
      "Global Step: 2701  cost: 0.7098914  q:  3.570691  score:  0.9295526\n",
      "Global Step: 2801  cost: 0.84464335  q:  1.9543111  score:  0.74828523\n",
      "Global Step: 2901  cost: 0.93581694  q:  2.5842068  score:  0.8695106\n",
      "save actor-network... 3001\n",
      "save critic-network... 3001\n",
      "Global Step: 3001  cost: 0.6799591  q:  2.4746163  score:  0.042355053\n",
      "Global Step: 3101  cost: 0.6127542  q:  1.8536024  score:  0.47631314\n",
      "Global Step: 3201  cost: 0.7372011  q:  2.7299743  score:  0.042525113\n",
      "Global Step: 3301  cost: 0.8311932  q:  2.599126  score:  0.9295526\n",
      "Global Step: 3401  cost: 0.7216748  q:  2.8926592  score:  0.9612637\n",
      "Global Step: 3501  cost: 0.73817885  q:  2.3473353  score:  0.42625403\n",
      "Global Step: 3601  cost: 0.78634393  q:  1.8003645  score:  0.31934607\n",
      "Global Step: 3701  cost: 0.92014486  q:  1.1148953  score:  0.24543048\n",
      "Global Step: 3801  cost: 0.7893106  q:  2.4133582  score:  0.50741285\n",
      "Global Step: 3901  cost: 0.8584584  q:  1.1103278  score:  0.07322323\n",
      "save actor-network... 4001\n",
      "save critic-network... 4001\n",
      "Global Step: 4001  cost: 0.6189643  q:  1.6484759  score:  0.7237544\n",
      "Global Step: 4101  cost: 0.63429046  q:  1.9328691  score:  0.20870966\n",
      "Global Step: 4201  cost: 0.5293949  q:  1.2956097  score:  0.25310135\n",
      "Global Step: 4301  cost: 0.8713342  q:  2.64639  score:  0.18628822\n",
      "Global Step: 4401  cost: 0.9141921  q:  2.634564  score:  0.4632168\n",
      "Global Step: 4501  cost: 0.7346859  q:  2.1268182  score:  0.39101833\n",
      "Global Step: 4601  cost: 0.62408495  q:  1.5237099  score:  0.20724703\n",
      "Global Step: 4701  cost: 0.5543103  q:  1.2092915  score:  0.9295526\n",
      "Global Step: 4801  cost: 1.1162231  q:  2.185091  score:  0.16700767\n",
      "Global Step: 4901  cost: 0.75380015  q:  1.8370814  score:  0.6911648\n",
      "save actor-network... 5001\n",
      "save critic-network... 5001\n",
      "Global Step: 5001  cost: 0.50323737  q:  1.9630479  score:  0.15759027\n",
      "Global Step: 5101  cost: 0.73539865  q:  2.7049909  score:  0.84351313\n",
      "Global Step: 5201  cost: 0.5416196  q:  2.3238978  score:  0.17463107\n",
      "Global Step: 5301  cost: 0.7293925  q:  0.8586119  score:  0.6553141\n",
      "Global Step: 5401  cost: 0.3755429  q:  1.94486  score:  0.7469905\n",
      "Global Step: 5501  cost: 0.47061014  q:  2.3741508  score:  0.77577186\n",
      "Global Step: 5601  cost: 0.4626444  q:  1.3113214  score:  0.52709764\n",
      "Global Step: 5701  cost: 0.5264823  q:  1.187307  score:  0.97195286\n",
      "Global Step: 5801  cost: 0.5084632  q:  2.7367048  score:  0.030886935\n",
      "Global Step: 5901  cost: 0.5969268  q:  0.47808975  score:  0.9490995\n",
      "save actor-network... 6001\n",
      "WARNING:tensorflow:From /Users/cocowang/anaconda3/envs/py36/lib/python3.6/site-packages/tensorflow/python/training/saver.py:966: remove_checkpoint (from tensorflow.python.training.checkpoint_management) is deprecated and will be removed in a future version.\n",
      "Instructions for updating:\n",
      "Use standard file APIs to delete files with this prefix.\n",
      "save critic-network... 6001\n",
      "Global Step: 6001  cost: 0.49504158  q:  1.5053086  score:  0.9295526\n",
      "Global Step: 6101  cost: 0.5120727  q:  1.4725636  score:  0.81037575\n",
      "Global Step: 6201  cost: 0.49423495  q:  2.369145  score:  0.17655471\n",
      "Global Step: 6301  cost: 0.6358901  q:  1.9548926  score:  0.22864714\n",
      "Global Step: 6401  cost: 0.48848346  q:  1.9191633  score:  0.525617\n",
      "Global Step: 6501  cost: 0.5003046  q:  1.8951851  score:  0.80852723\n",
      "Global Step: 6601  cost: 0.4234424  q:  3.4427977  score:  0.7824832\n",
      "Global Step: 6701  cost: 0.41857755  q:  1.0273122  score:  0.3889428\n",
      "Global Step: 6801  cost: 0.50772476  q:  1.5522516  score:  0.26309335\n"
     ]
    },
    {
     "ename": "KeyboardInterrupt",
     "evalue": "",
     "output_type": "error",
     "traceback": [
      "\u001b[0;31m---------------------------------------------------------------------------\u001b[0m",
      "\u001b[0;31mKeyboardInterrupt\u001b[0m                         Traceback (most recent call last)",
      "\u001b[0;32m<ipython-input-6-66fd71778bac>\u001b[0m in \u001b[0;36m<module>\u001b[0;34m\u001b[0m\n\u001b[1;32m     11\u001b[0m     \u001b[0maction\u001b[0m \u001b[0;34m=\u001b[0m \u001b[0magent\u001b[0m\u001b[0;34m.\u001b[0m\u001b[0mpredict\u001b[0m\u001b[0;34m(\u001b[0m\u001b[0mobservation\u001b[0m\u001b[0;34m,\u001b[0m \u001b[0msub_goal\u001b[0m\u001b[0;34m,\u001b[0m \u001b[0mep\u001b[0m\u001b[0;34m)\u001b[0m\u001b[0;34m\u001b[0m\u001b[0;34m\u001b[0m\u001b[0m\n\u001b[1;32m     12\u001b[0m \u001b[0;34m\u001b[0m\u001b[0m\n\u001b[0;32m---> 13\u001b[0;31m     \u001b[0msub_goal\u001b[0m\u001b[0;34m,\u001b[0m \u001b[0mnext_observation\u001b[0m\u001b[0;34m,\u001b[0m \u001b[0mreward\u001b[0m\u001b[0;34m,\u001b[0m \u001b[0mterminal\u001b[0m \u001b[0;34m=\u001b[0m \u001b[0menv\u001b[0m\u001b[0;34m.\u001b[0m\u001b[0mdraw\u001b[0m\u001b[0;34m(\u001b[0m\u001b[0maction\u001b[0m\u001b[0;34m)\u001b[0m\u001b[0;34m\u001b[0m\u001b[0;34m\u001b[0m\u001b[0m\n\u001b[0m\u001b[1;32m     14\u001b[0m     \u001b[0magent\u001b[0m\u001b[0;34m.\u001b[0m\u001b[0mperceive\u001b[0m\u001b[0;34m(\u001b[0m\u001b[0msub_goal\u001b[0m\u001b[0;34m,\u001b[0m \u001b[0mobservation\u001b[0m\u001b[0;34m,\u001b[0m\u001b[0maction\u001b[0m\u001b[0;34m,\u001b[0m\u001b[0mreward\u001b[0m\u001b[0;34m,\u001b[0m\u001b[0mnext_observation\u001b[0m\u001b[0;34m,\u001b[0m\u001b[0mterminal\u001b[0m\u001b[0;34m)\u001b[0m\u001b[0;34m\u001b[0m\u001b[0;34m\u001b[0m\u001b[0m\n\u001b[1;32m     15\u001b[0m \u001b[0;34m\u001b[0m\u001b[0m\n",
      "\u001b[0;32m~/Working/RLModel2.0/bus/gan_as_crit_bus/Model_Engr_v2/env.py\u001b[0m in \u001b[0;36mdraw\u001b[0;34m(self, action)\u001b[0m\n\u001b[1;32m     23\u001b[0m         \u001b[0;32mif\u001b[0m \u001b[0mself\u001b[0m\u001b[0;34m.\u001b[0m\u001b[0mprevious_score\u001b[0m \u001b[0;32mis\u001b[0m \u001b[0;32mNone\u001b[0m\u001b[0;34m:\u001b[0m\u001b[0;34m\u001b[0m\u001b[0;34m\u001b[0m\u001b[0m\n\u001b[1;32m     24\u001b[0m             \u001b[0mself\u001b[0m\u001b[0;34m.\u001b[0m\u001b[0mprevious_score\u001b[0m \u001b[0;34m=\u001b[0m\u001b[0;31m \u001b[0m\u001b[0;31m\\\u001b[0m\u001b[0;34m\u001b[0m\u001b[0;34m\u001b[0m\u001b[0m\n\u001b[0;32m---> 25\u001b[0;31m                 \u001b[0mself\u001b[0m\u001b[0;34m.\u001b[0m\u001b[0mclassifier\u001b[0m\u001b[0;34m.\u001b[0m\u001b[0mget_score\u001b[0m\u001b[0;34m(\u001b[0m\u001b[0mself\u001b[0m\u001b[0;34m.\u001b[0m\u001b[0mcanvas\u001b[0m\u001b[0;34m.\u001b[0m\u001b[0mreshape\u001b[0m\u001b[0;34m(\u001b[0m\u001b[0;34m-\u001b[0m\u001b[0;36m1\u001b[0m\u001b[0;34m,\u001b[0m \u001b[0mself\u001b[0m\u001b[0;34m.\u001b[0m\u001b[0mdim\u001b[0m\u001b[0;34m[\u001b[0m\u001b[0;36m0\u001b[0m\u001b[0;34m]\u001b[0m\u001b[0;34m,\u001b[0m \u001b[0mself\u001b[0m\u001b[0;34m.\u001b[0m\u001b[0mdim\u001b[0m\u001b[0;34m[\u001b[0m\u001b[0;36m1\u001b[0m\u001b[0;34m]\u001b[0m\u001b[0;34m,\u001b[0m \u001b[0;36m1\u001b[0m\u001b[0;34m)\u001b[0m\u001b[0;34m,\u001b[0m \u001b[0mself\u001b[0m\u001b[0;34m.\u001b[0m\u001b[0mgoal\u001b[0m\u001b[0;34m)\u001b[0m\u001b[0;34m\u001b[0m\u001b[0;34m\u001b[0m\u001b[0m\n\u001b[0m\u001b[1;32m     26\u001b[0m \u001b[0;34m\u001b[0m\u001b[0m\n\u001b[1;32m     27\u001b[0m         \u001b[0;31m# do_nothing, q_line, q_curve, x0_line, y0_line, x1_line ,y1_line,\u001b[0m\u001b[0;34m\u001b[0m\u001b[0;34m\u001b[0m\u001b[0;34m\u001b[0m\u001b[0m\n",
      "\u001b[0;32m~/Working/RLModel2.0/bus/gan_as_crit_bus/Model_Engr_v2/classifier.py\u001b[0m in \u001b[0;36mget_score\u001b[0;34m(self, X, goal)\u001b[0m\n\u001b[1;32m     43\u001b[0m     \u001b[0;32mdef\u001b[0m \u001b[0mget_score\u001b[0m\u001b[0;34m(\u001b[0m\u001b[0mself\u001b[0m\u001b[0;34m,\u001b[0m \u001b[0mX\u001b[0m\u001b[0;34m,\u001b[0m \u001b[0mgoal\u001b[0m\u001b[0;34m)\u001b[0m\u001b[0;34m:\u001b[0m\u001b[0;34m\u001b[0m\u001b[0;34m\u001b[0m\u001b[0m\n\u001b[1;32m     44\u001b[0m         \u001b[0mX\u001b[0m\u001b[0;34m.\u001b[0m\u001b[0mreshape\u001b[0m\u001b[0;34m(\u001b[0m\u001b[0;34m-\u001b[0m\u001b[0;36m1\u001b[0m\u001b[0;34m,\u001b[0m\u001b[0;36m28\u001b[0m\u001b[0;34m,\u001b[0m\u001b[0;36m28\u001b[0m\u001b[0;34m)\u001b[0m\u001b[0;34m\u001b[0m\u001b[0;34m\u001b[0m\u001b[0m\n\u001b[0;32m---> 45\u001b[0;31m         \u001b[0m_\u001b[0m\u001b[0;34m,\u001b[0m \u001b[0mscores\u001b[0m \u001b[0;34m=\u001b[0m \u001b[0mself\u001b[0m\u001b[0;34m.\u001b[0m\u001b[0minference\u001b[0m\u001b[0;34m(\u001b[0m\u001b[0mX\u001b[0m\u001b[0;34m)\u001b[0m\u001b[0;34m\u001b[0m\u001b[0;34m\u001b[0m\u001b[0m\n\u001b[0m\u001b[1;32m     46\u001b[0m         \u001b[0mscore\u001b[0m \u001b[0;34m=\u001b[0m \u001b[0mscores\u001b[0m\u001b[0;34m[\u001b[0m\u001b[0;36m0\u001b[0m\u001b[0;34m]\u001b[0m\u001b[0;34m[\u001b[0m\u001b[0mgoal\u001b[0m\u001b[0;34m]\u001b[0m\u001b[0;34m\u001b[0m\u001b[0;34m\u001b[0m\u001b[0m\n\u001b[1;32m     47\u001b[0m \u001b[0;34m\u001b[0m\u001b[0m\n",
      "\u001b[0;32m~/Working/RLModel2.0/bus/gan_as_crit_bus/Model_Engr_v2/classifier.py\u001b[0m in \u001b[0;36minference\u001b[0;34m(self, X)\u001b[0m\n\u001b[1;32m     38\u001b[0m         \u001b[0mX\u001b[0m\u001b[0;34m.\u001b[0m\u001b[0mreshape\u001b[0m\u001b[0;34m(\u001b[0m\u001b[0;34m-\u001b[0m\u001b[0;36m1\u001b[0m\u001b[0;34m,\u001b[0m \u001b[0;36m28\u001b[0m\u001b[0;34m,\u001b[0m \u001b[0;36m28\u001b[0m\u001b[0;34m)\u001b[0m\u001b[0;34m\u001b[0m\u001b[0;34m\u001b[0m\u001b[0m\n\u001b[1;32m     39\u001b[0m         \u001b[0;31m# plt.show(X.reshape(self.n_H0, self.n_W0))\u001b[0m\u001b[0;34m\u001b[0m\u001b[0;34m\u001b[0m\u001b[0;34m\u001b[0m\u001b[0m\n\u001b[0;32m---> 40\u001b[0;31m         \u001b[0mresult\u001b[0m \u001b[0;34m=\u001b[0m \u001b[0mself\u001b[0m\u001b[0;34m.\u001b[0m\u001b[0msess\u001b[0m\u001b[0;34m.\u001b[0m\u001b[0mrun\u001b[0m\u001b[0;34m(\u001b[0m\u001b[0mself\u001b[0m\u001b[0;34m.\u001b[0m\u001b[0mscore\u001b[0m\u001b[0;34m,\u001b[0m \u001b[0mfeed_dict\u001b[0m\u001b[0;34m=\u001b[0m\u001b[0;34m{\u001b[0m\u001b[0mself\u001b[0m\u001b[0;34m.\u001b[0m\u001b[0mX\u001b[0m\u001b[0;34m:\u001b[0m \u001b[0mX\u001b[0m\u001b[0;34m}\u001b[0m\u001b[0;34m)\u001b[0m\u001b[0;34m\u001b[0m\u001b[0;34m\u001b[0m\u001b[0m\n\u001b[0m\u001b[1;32m     41\u001b[0m         \u001b[0;32mreturn\u001b[0m \u001b[0mX\u001b[0m\u001b[0;34m.\u001b[0m\u001b[0mreshape\u001b[0m\u001b[0;34m(\u001b[0m\u001b[0;36m28\u001b[0m\u001b[0;34m,\u001b[0m \u001b[0;36m28\u001b[0m\u001b[0;34m)\u001b[0m\u001b[0;34m,\u001b[0m \u001b[0mresult\u001b[0m\u001b[0;34m\u001b[0m\u001b[0;34m\u001b[0m\u001b[0m\n\u001b[1;32m     42\u001b[0m \u001b[0;34m\u001b[0m\u001b[0m\n",
      "\u001b[0;32m~/anaconda3/envs/py36/lib/python3.6/site-packages/tensorflow/python/client/session.py\u001b[0m in \u001b[0;36mrun\u001b[0;34m(self, fetches, feed_dict, options, run_metadata)\u001b[0m\n\u001b[1;32m    927\u001b[0m     \u001b[0;32mtry\u001b[0m\u001b[0;34m:\u001b[0m\u001b[0;34m\u001b[0m\u001b[0;34m\u001b[0m\u001b[0m\n\u001b[1;32m    928\u001b[0m       result = self._run(None, fetches, feed_dict, options_ptr,\n\u001b[0;32m--> 929\u001b[0;31m                          run_metadata_ptr)\n\u001b[0m\u001b[1;32m    930\u001b[0m       \u001b[0;32mif\u001b[0m \u001b[0mrun_metadata\u001b[0m\u001b[0;34m:\u001b[0m\u001b[0;34m\u001b[0m\u001b[0;34m\u001b[0m\u001b[0m\n\u001b[1;32m    931\u001b[0m         \u001b[0mproto_data\u001b[0m \u001b[0;34m=\u001b[0m \u001b[0mtf_session\u001b[0m\u001b[0;34m.\u001b[0m\u001b[0mTF_GetBuffer\u001b[0m\u001b[0;34m(\u001b[0m\u001b[0mrun_metadata_ptr\u001b[0m\u001b[0;34m)\u001b[0m\u001b[0;34m\u001b[0m\u001b[0;34m\u001b[0m\u001b[0m\n",
      "\u001b[0;32m~/anaconda3/envs/py36/lib/python3.6/site-packages/tensorflow/python/client/session.py\u001b[0m in \u001b[0;36m_run\u001b[0;34m(self, handle, fetches, feed_dict, options, run_metadata)\u001b[0m\n\u001b[1;32m   1150\u001b[0m     \u001b[0;32mif\u001b[0m \u001b[0mfinal_fetches\u001b[0m \u001b[0;32mor\u001b[0m \u001b[0mfinal_targets\u001b[0m \u001b[0;32mor\u001b[0m \u001b[0;34m(\u001b[0m\u001b[0mhandle\u001b[0m \u001b[0;32mand\u001b[0m \u001b[0mfeed_dict_tensor\u001b[0m\u001b[0;34m)\u001b[0m\u001b[0;34m:\u001b[0m\u001b[0;34m\u001b[0m\u001b[0;34m\u001b[0m\u001b[0m\n\u001b[1;32m   1151\u001b[0m       results = self._do_run(handle, final_targets, final_fetches,\n\u001b[0;32m-> 1152\u001b[0;31m                              feed_dict_tensor, options, run_metadata)\n\u001b[0m\u001b[1;32m   1153\u001b[0m     \u001b[0;32melse\u001b[0m\u001b[0;34m:\u001b[0m\u001b[0;34m\u001b[0m\u001b[0;34m\u001b[0m\u001b[0m\n\u001b[1;32m   1154\u001b[0m       \u001b[0mresults\u001b[0m \u001b[0;34m=\u001b[0m \u001b[0;34m[\u001b[0m\u001b[0;34m]\u001b[0m\u001b[0;34m\u001b[0m\u001b[0;34m\u001b[0m\u001b[0m\n",
      "\u001b[0;32m~/anaconda3/envs/py36/lib/python3.6/site-packages/tensorflow/python/client/session.py\u001b[0m in \u001b[0;36m_do_run\u001b[0;34m(self, handle, target_list, fetch_list, feed_dict, options, run_metadata)\u001b[0m\n\u001b[1;32m   1326\u001b[0m     \u001b[0;32mif\u001b[0m \u001b[0mhandle\u001b[0m \u001b[0;32mis\u001b[0m \u001b[0;32mNone\u001b[0m\u001b[0;34m:\u001b[0m\u001b[0;34m\u001b[0m\u001b[0;34m\u001b[0m\u001b[0m\n\u001b[1;32m   1327\u001b[0m       return self._do_call(_run_fn, feeds, fetches, targets, options,\n\u001b[0;32m-> 1328\u001b[0;31m                            run_metadata)\n\u001b[0m\u001b[1;32m   1329\u001b[0m     \u001b[0;32melse\u001b[0m\u001b[0;34m:\u001b[0m\u001b[0;34m\u001b[0m\u001b[0;34m\u001b[0m\u001b[0m\n\u001b[1;32m   1330\u001b[0m       \u001b[0;32mreturn\u001b[0m \u001b[0mself\u001b[0m\u001b[0;34m.\u001b[0m\u001b[0m_do_call\u001b[0m\u001b[0;34m(\u001b[0m\u001b[0m_prun_fn\u001b[0m\u001b[0;34m,\u001b[0m \u001b[0mhandle\u001b[0m\u001b[0;34m,\u001b[0m \u001b[0mfeeds\u001b[0m\u001b[0;34m,\u001b[0m \u001b[0mfetches\u001b[0m\u001b[0;34m)\u001b[0m\u001b[0;34m\u001b[0m\u001b[0;34m\u001b[0m\u001b[0m\n",
      "\u001b[0;32m~/anaconda3/envs/py36/lib/python3.6/site-packages/tensorflow/python/client/session.py\u001b[0m in \u001b[0;36m_do_call\u001b[0;34m(self, fn, *args)\u001b[0m\n\u001b[1;32m   1332\u001b[0m   \u001b[0;32mdef\u001b[0m \u001b[0m_do_call\u001b[0m\u001b[0;34m(\u001b[0m\u001b[0mself\u001b[0m\u001b[0;34m,\u001b[0m \u001b[0mfn\u001b[0m\u001b[0;34m,\u001b[0m \u001b[0;34m*\u001b[0m\u001b[0margs\u001b[0m\u001b[0;34m)\u001b[0m\u001b[0;34m:\u001b[0m\u001b[0;34m\u001b[0m\u001b[0;34m\u001b[0m\u001b[0m\n\u001b[1;32m   1333\u001b[0m     \u001b[0;32mtry\u001b[0m\u001b[0;34m:\u001b[0m\u001b[0;34m\u001b[0m\u001b[0;34m\u001b[0m\u001b[0m\n\u001b[0;32m-> 1334\u001b[0;31m       \u001b[0;32mreturn\u001b[0m \u001b[0mfn\u001b[0m\u001b[0;34m(\u001b[0m\u001b[0;34m*\u001b[0m\u001b[0margs\u001b[0m\u001b[0;34m)\u001b[0m\u001b[0;34m\u001b[0m\u001b[0;34m\u001b[0m\u001b[0m\n\u001b[0m\u001b[1;32m   1335\u001b[0m     \u001b[0;32mexcept\u001b[0m \u001b[0merrors\u001b[0m\u001b[0;34m.\u001b[0m\u001b[0mOpError\u001b[0m \u001b[0;32mas\u001b[0m \u001b[0me\u001b[0m\u001b[0;34m:\u001b[0m\u001b[0;34m\u001b[0m\u001b[0;34m\u001b[0m\u001b[0m\n\u001b[1;32m   1336\u001b[0m       \u001b[0mmessage\u001b[0m \u001b[0;34m=\u001b[0m \u001b[0mcompat\u001b[0m\u001b[0;34m.\u001b[0m\u001b[0mas_text\u001b[0m\u001b[0;34m(\u001b[0m\u001b[0me\u001b[0m\u001b[0;34m.\u001b[0m\u001b[0mmessage\u001b[0m\u001b[0;34m)\u001b[0m\u001b[0;34m\u001b[0m\u001b[0;34m\u001b[0m\u001b[0m\n",
      "\u001b[0;32m~/anaconda3/envs/py36/lib/python3.6/site-packages/tensorflow/python/client/session.py\u001b[0m in \u001b[0;36m_run_fn\u001b[0;34m(feed_dict, fetch_list, target_list, options, run_metadata)\u001b[0m\n\u001b[1;32m   1315\u001b[0m     \u001b[0;32mdef\u001b[0m \u001b[0m_run_fn\u001b[0m\u001b[0;34m(\u001b[0m\u001b[0mfeed_dict\u001b[0m\u001b[0;34m,\u001b[0m \u001b[0mfetch_list\u001b[0m\u001b[0;34m,\u001b[0m \u001b[0mtarget_list\u001b[0m\u001b[0;34m,\u001b[0m \u001b[0moptions\u001b[0m\u001b[0;34m,\u001b[0m \u001b[0mrun_metadata\u001b[0m\u001b[0;34m)\u001b[0m\u001b[0;34m:\u001b[0m\u001b[0;34m\u001b[0m\u001b[0;34m\u001b[0m\u001b[0m\n\u001b[1;32m   1316\u001b[0m       \u001b[0;31m# Ensure any changes to the graph are reflected in the runtime.\u001b[0m\u001b[0;34m\u001b[0m\u001b[0;34m\u001b[0m\u001b[0;34m\u001b[0m\u001b[0m\n\u001b[0;32m-> 1317\u001b[0;31m       \u001b[0mself\u001b[0m\u001b[0;34m.\u001b[0m\u001b[0m_extend_graph\u001b[0m\u001b[0;34m(\u001b[0m\u001b[0;34m)\u001b[0m\u001b[0;34m\u001b[0m\u001b[0;34m\u001b[0m\u001b[0m\n\u001b[0m\u001b[1;32m   1318\u001b[0m       return self._call_tf_sessionrun(\n\u001b[1;32m   1319\u001b[0m           options, feed_dict, fetch_list, target_list, run_metadata)\n",
      "\u001b[0;32m~/anaconda3/envs/py36/lib/python3.6/site-packages/tensorflow/python/client/session.py\u001b[0m in \u001b[0;36m_extend_graph\u001b[0;34m(self)\u001b[0m\n\u001b[1;32m   1350\u001b[0m   \u001b[0;32mdef\u001b[0m \u001b[0m_extend_graph\u001b[0m\u001b[0;34m(\u001b[0m\u001b[0mself\u001b[0m\u001b[0;34m)\u001b[0m\u001b[0;34m:\u001b[0m\u001b[0;34m\u001b[0m\u001b[0;34m\u001b[0m\u001b[0m\n\u001b[1;32m   1351\u001b[0m     \u001b[0;32mwith\u001b[0m \u001b[0mself\u001b[0m\u001b[0;34m.\u001b[0m\u001b[0m_graph\u001b[0m\u001b[0;34m.\u001b[0m\u001b[0m_session_run_lock\u001b[0m\u001b[0;34m(\u001b[0m\u001b[0;34m)\u001b[0m\u001b[0;34m:\u001b[0m  \u001b[0;31m# pylint: disable=protected-access\u001b[0m\u001b[0;34m\u001b[0m\u001b[0;34m\u001b[0m\u001b[0m\n\u001b[0;32m-> 1352\u001b[0;31m       \u001b[0mtf_session\u001b[0m\u001b[0;34m.\u001b[0m\u001b[0mExtendSession\u001b[0m\u001b[0;34m(\u001b[0m\u001b[0mself\u001b[0m\u001b[0;34m.\u001b[0m\u001b[0m_session\u001b[0m\u001b[0;34m)\u001b[0m\u001b[0;34m\u001b[0m\u001b[0;34m\u001b[0m\u001b[0m\n\u001b[0m\u001b[1;32m   1353\u001b[0m \u001b[0;34m\u001b[0m\u001b[0m\n\u001b[1;32m   1354\u001b[0m   \u001b[0;31m# The threshold to run garbage collection to delete dead tensors.\u001b[0m\u001b[0;34m\u001b[0m\u001b[0;34m\u001b[0m\u001b[0;34m\u001b[0m\u001b[0m\n",
      "\u001b[0;31mKeyboardInterrupt\u001b[0m: "
     ]
    }
   ],
   "source": [
    "for _ in range(_global_step, MAX_T + T_TRAIN_START):\n",
    "    global_step = agent.global_step()\n",
    "    ep = U.calc_ep(global_step, EP_START, EP_END, T_EP_END)\n",
    "\n",
    "    if terminal:\n",
    "        #print(global_step)\n",
    "        #rgoal = random.randint(0, 1)\n",
    "        rgoal = 0\n",
    "        sub_goal, observation, _, _ = env.new_canvas(goal=rgoal)\n",
    "\n",
    "    action = agent.predict(observation, sub_goal, ep)\n",
    "\n",
    "    sub_goal, next_observation, reward, terminal = env.draw(action)\n",
    "    agent.perceive(sub_goal, observation,action,reward,next_observation,terminal)\n",
    "\n",
    "    observation = next_observation\n",
    "    \n",
    "    \n",
    "    if (global_step-1) % 100 == 0:\n",
    "        #print(agent.last_terminal[0])\n",
    "        #print(agent.last_terminal[1])\n",
    "        q, c, s = agent.get_summary()\n",
    "        \n",
    "        \n",
    "        print('Global Step:', global_step, ' cost:', c,' q: ',q, ' score: ',s)"
   ]
  },
  {
   "cell_type": "code",
   "execution_count": 7,
   "metadata": {},
   "outputs": [
    {
     "name": "stdout",
     "output_type": "stream",
     "text": [
      "save actor-network... 6890\n",
      "save critic-network... 6890\n"
     ]
    }
   ],
   "source": [
    "agent.actor_network.save_network(agent.global_step())\n",
    "agent.critic_network.save_network(agent.global_step())"
   ]
  },
  {
   "cell_type": "code",
   "execution_count": 8,
   "metadata": {},
   "outputs": [],
   "source": [
    "import numpy as np\n",
    "from matplotlib import pyplot as plt"
   ]
  },
  {
   "cell_type": "code",
   "execution_count": 69,
   "metadata": {},
   "outputs": [
    {
     "data": {
      "image/png": "[encoded data removed]",
      "text/plain": [
       "<Figure size 432x288 with 1 Axes>"
      ]
     },
     "metadata": {
      "needs_background": "light"
     },
     "output_type": "display_data"
    }
   ],
   "source": [
    "g = 0\n",
    "\n",
    "for _ in range(500):\n",
    "    sub_goal, observation, _, _ = env.new_canvas(goal=g)\n",
    "    for s in range(20):\n",
    "        action = agent.predict(observation, g, 1.0)\n",
    "        sub_goal, next_observation, reward, terminal = env.draw(action)\n",
    "        if terminal:\n",
    "            break\n",
    "            \n",
    "    #print(env.classifier.get_score(np.reshape(next_observation,[1,28,28,1]), g))\n",
    "    if env.classifier.get_score(np.reshape(next_observation,[1,28,28,1]), g) > 0.1:\n",
    "        plt.imshow(next_observation)\n",
    "        break\n",
    "    #print(s)\n",
    "\n"
   ]
  },
  {
   "cell_type": "code",
   "execution_count": 5,
   "metadata": {},
   "outputs": [
    {
     "data": {
      "text/plain": [
       "[<tf.Variable 'discriminator/conv2d/kernel:0' shape=(5, 5, 1, 64) dtype=float32_ref>,\n",
       " <tf.Variable 'discriminator/conv2d/bias:0' shape=(64,) dtype=float32_ref>,\n",
       " <tf.Variable 'discriminator/conv2d_1/kernel:0' shape=(5, 5, 64, 64) dtype=float32_ref>,\n",
       " <tf.Variable 'discriminator/conv2d_1/bias:0' shape=(64,) dtype=float32_ref>,\n",
       " <tf.Variable 'discriminator/conv2d_2/kernel:0' shape=(5, 5, 64, 64) dtype=float32_ref>,\n",
       " <tf.Variable 'discriminator/conv2d_2/bias:0' shape=(64,) dtype=float32_ref>,\n",
       " <tf.Variable 'discriminator/dense/kernel:0' shape=(12544, 128) dtype=float32_ref>,\n",
       " <tf.Variable 'discriminator/dense/bias:0' shape=(128,) dtype=float32_ref>,\n",
       " <tf.Variable 'discriminator/dense_1/kernel:0' shape=(128, 1) dtype=float32_ref>,\n",
       " <tf.Variable 'discriminator/dense_1/bias:0' shape=(1,) dtype=float32_ref>,\n",
       " <tf.Variable 'actor_net/conv1_w:0' shape=(7, 7, 1, 32) dtype=float32_ref>,\n",
       " <tf.Variable 'actor_net/conv1_b:0' shape=(32,) dtype=float32_ref>,\n",
       " <tf.Variable 'actor_net/conv2_w:0' shape=(4, 4, 32, 64) dtype=float32_ref>,\n",
       " <tf.Variable 'actor_net/conv2_b:0' shape=(64,) dtype=float32_ref>,\n",
       " <tf.Variable 'actor_net/fc1_w:0' shape=(1025, 512) dtype=float32_ref>,\n",
       " <tf.Variable 'actor_net/fc1_b:0' shape=(512,) dtype=float32_ref>,\n",
       " <tf.Variable 'actor_net/fc2_w:0' shape=(512, 256) dtype=float32_ref>,\n",
       " <tf.Variable 'actor_net/fc2_b:0' shape=(256,) dtype=float32_ref>,\n",
       " <tf.Variable 'actor_net/fc3_w:0' shape=(256, 14) dtype=float32_ref>,\n",
       " <tf.Variable 'actor_net/fc3_b:0' shape=(14,) dtype=float32_ref>,\n",
       " <tf.Variable 'actor_net/conv1_w/ExponentialMovingAverage:0' shape=(7, 7, 1, 32) dtype=float32_ref>,\n",
       " <tf.Variable 'actor_net/conv1_b/ExponentialMovingAverage:0' shape=(32,) dtype=float32_ref>,\n",
       " <tf.Variable 'actor_net/conv2_w/ExponentialMovingAverage:0' shape=(4, 4, 32, 64) dtype=float32_ref>,\n",
       " <tf.Variable 'actor_net/conv2_b/ExponentialMovingAverage:0' shape=(64,) dtype=float32_ref>,\n",
       " <tf.Variable 'actor_net/fc1_w/ExponentialMovingAverage:0' shape=(1025, 512) dtype=float32_ref>,\n",
       " <tf.Variable 'actor_net/fc1_b/ExponentialMovingAverage:0' shape=(512,) dtype=float32_ref>,\n",
       " <tf.Variable 'actor_net/fc2_w/ExponentialMovingAverage:0' shape=(512, 256) dtype=float32_ref>,\n",
       " <tf.Variable 'actor_net/fc2_b/ExponentialMovingAverage:0' shape=(256,) dtype=float32_ref>,\n",
       " <tf.Variable 'actor_net/fc3_w/ExponentialMovingAverage:0' shape=(256, 14) dtype=float32_ref>,\n",
       " <tf.Variable 'actor_net/fc3_b/ExponentialMovingAverage:0' shape=(14,) dtype=float32_ref>,\n",
       " <tf.Variable 'beta1_power:0' shape=() dtype=float32_ref>,\n",
       " <tf.Variable 'beta2_power:0' shape=() dtype=float32_ref>,\n",
       " <tf.Variable 'actor_net/conv1_w/Adam:0' shape=(7, 7, 1, 32) dtype=float32_ref>,\n",
       " <tf.Variable 'actor_net/conv1_w/Adam_1:0' shape=(7, 7, 1, 32) dtype=float32_ref>,\n",
       " <tf.Variable 'actor_net/conv1_b/Adam:0' shape=(32,) dtype=float32_ref>,\n",
       " <tf.Variable 'actor_net/conv1_b/Adam_1:0' shape=(32,) dtype=float32_ref>,\n",
       " <tf.Variable 'actor_net/conv2_w/Adam:0' shape=(4, 4, 32, 64) dtype=float32_ref>,\n",
       " <tf.Variable 'actor_net/conv2_w/Adam_1:0' shape=(4, 4, 32, 64) dtype=float32_ref>,\n",
       " <tf.Variable 'actor_net/conv2_b/Adam:0' shape=(64,) dtype=float32_ref>,\n",
       " <tf.Variable 'actor_net/conv2_b/Adam_1:0' shape=(64,) dtype=float32_ref>,\n",
       " <tf.Variable 'actor_net/fc1_w/Adam:0' shape=(1025, 512) dtype=float32_ref>,\n",
       " <tf.Variable 'actor_net/fc1_w/Adam_1:0' shape=(1025, 512) dtype=float32_ref>,\n",
       " <tf.Variable 'actor_net/fc1_b/Adam:0' shape=(512,) dtype=float32_ref>,\n",
       " <tf.Variable 'actor_net/fc1_b/Adam_1:0' shape=(512,) dtype=float32_ref>,\n",
       " <tf.Variable 'actor_net/fc2_w/Adam:0' shape=(512, 256) dtype=float32_ref>,\n",
       " <tf.Variable 'actor_net/fc2_w/Adam_1:0' shape=(512, 256) dtype=float32_ref>,\n",
       " <tf.Variable 'actor_net/fc2_b/Adam:0' shape=(256,) dtype=float32_ref>,\n",
       " <tf.Variable 'actor_net/fc2_b/Adam_1:0' shape=(256,) dtype=float32_ref>,\n",
       " <tf.Variable 'actor_net/fc3_w/Adam:0' shape=(256, 14) dtype=float32_ref>,\n",
       " <tf.Variable 'actor_net/fc3_w/Adam_1:0' shape=(256, 14) dtype=float32_ref>,\n",
       " <tf.Variable 'actor_net/fc3_b/Adam:0' shape=(14,) dtype=float32_ref>,\n",
       " <tf.Variable 'actor_net/fc3_b/Adam_1:0' shape=(14,) dtype=float32_ref>,\n",
       " <tf.Variable 'global_step:0' shape=() dtype=int64_ref>,\n",
       " <tf.Variable 'critic_net/conv1_w:0' shape=(7, 7, 1, 32) dtype=float32_ref>,\n",
       " <tf.Variable 'critic_net/conv1_b:0' shape=(32,) dtype=float32_ref>,\n",
       " <tf.Variable 'critic_net/conv2_w:0' shape=(4, 4, 32, 64) dtype=float32_ref>,\n",
       " <tf.Variable 'critic_net/conv2_b:0' shape=(64,) dtype=float32_ref>,\n",
       " <tf.Variable 'critic_net/fc1_w:0' shape=(1039, 512) dtype=float32_ref>,\n",
       " <tf.Variable 'critic_net/fc1_b:0' shape=(512,) dtype=float32_ref>,\n",
       " <tf.Variable 'critic_net/fc2_w:0' shape=(512, 256) dtype=float32_ref>,\n",
       " <tf.Variable 'critic_net/fc2_b:0' shape=(256,) dtype=float32_ref>,\n",
       " <tf.Variable 'critic_net/fc3_w:0' shape=(256, 1) dtype=float32_ref>,\n",
       " <tf.Variable 'critic_net/fc3_b:0' shape=(1,) dtype=float32_ref>,\n",
       " <tf.Variable 'critic_net/conv1_w/ExponentialMovingAverage:0' shape=(7, 7, 1, 32) dtype=float32_ref>,\n",
       " <tf.Variable 'critic_net/conv1_b/ExponentialMovingAverage:0' shape=(32,) dtype=float32_ref>,\n",
       " <tf.Variable 'critic_net/conv2_w/ExponentialMovingAverage:0' shape=(4, 4, 32, 64) dtype=float32_ref>,\n",
       " <tf.Variable 'critic_net/conv2_b/ExponentialMovingAverage:0' shape=(64,) dtype=float32_ref>,\n",
       " <tf.Variable 'critic_net/fc1_w/ExponentialMovingAverage:0' shape=(1039, 512) dtype=float32_ref>,\n",
       " <tf.Variable 'critic_net/fc1_b/ExponentialMovingAverage:0' shape=(512,) dtype=float32_ref>,\n",
       " <tf.Variable 'critic_net/fc2_w/ExponentialMovingAverage:0' shape=(512, 256) dtype=float32_ref>,\n",
       " <tf.Variable 'critic_net/fc2_b/ExponentialMovingAverage:0' shape=(256,) dtype=float32_ref>,\n",
       " <tf.Variable 'critic_net/fc3_w/ExponentialMovingAverage:0' shape=(256, 1) dtype=float32_ref>,\n",
       " <tf.Variable 'critic_net/fc3_b/ExponentialMovingAverage:0' shape=(1,) dtype=float32_ref>,\n",
       " <tf.Variable 'beta1_power_1:0' shape=() dtype=float32_ref>,\n",
       " <tf.Variable 'beta2_power_1:0' shape=() dtype=float32_ref>,\n",
       " <tf.Variable 'critic_net/conv1_w/Adam:0' shape=(7, 7, 1, 32) dtype=float32_ref>,\n",
       " <tf.Variable 'critic_net/conv1_w/Adam_1:0' shape=(7, 7, 1, 32) dtype=float32_ref>,\n",
       " <tf.Variable 'critic_net/conv1_b/Adam:0' shape=(32,) dtype=float32_ref>,\n",
       " <tf.Variable 'critic_net/conv1_b/Adam_1:0' shape=(32,) dtype=float32_ref>,\n",
       " <tf.Variable 'critic_net/conv2_w/Adam:0' shape=(4, 4, 32, 64) dtype=float32_ref>,\n",
       " <tf.Variable 'critic_net/conv2_w/Adam_1:0' shape=(4, 4, 32, 64) dtype=float32_ref>,\n",
       " <tf.Variable 'critic_net/conv2_b/Adam:0' shape=(64,) dtype=float32_ref>,\n",
       " <tf.Variable 'critic_net/conv2_b/Adam_1:0' shape=(64,) dtype=float32_ref>,\n",
       " <tf.Variable 'critic_net/fc1_w/Adam:0' shape=(1039, 512) dtype=float32_ref>,\n",
       " <tf.Variable 'critic_net/fc1_w/Adam_1:0' shape=(1039, 512) dtype=float32_ref>,\n",
       " <tf.Variable 'critic_net/fc1_b/Adam:0' shape=(512,) dtype=float32_ref>,\n",
       " <tf.Variable 'critic_net/fc1_b/Adam_1:0' shape=(512,) dtype=float32_ref>,\n",
       " <tf.Variable 'critic_net/fc2_w/Adam:0' shape=(512, 256) dtype=float32_ref>,\n",
       " <tf.Variable 'critic_net/fc2_w/Adam_1:0' shape=(512, 256) dtype=float32_ref>,\n",
       " <tf.Variable 'critic_net/fc2_b/Adam:0' shape=(256,) dtype=float32_ref>,\n",
       " <tf.Variable 'critic_net/fc2_b/Adam_1:0' shape=(256,) dtype=float32_ref>,\n",
       " <tf.Variable 'critic_net/fc3_w/Adam:0' shape=(256, 1) dtype=float32_ref>,\n",
       " <tf.Variable 'critic_net/fc3_w/Adam_1:0' shape=(256, 1) dtype=float32_ref>,\n",
       " <tf.Variable 'critic_net/fc3_b/Adam:0' shape=(1,) dtype=float32_ref>,\n",
       " <tf.Variable 'critic_net/fc3_b/Adam_1:0' shape=(1,) dtype=float32_ref>]"
      ]
     },
     "execution_count": 5,
     "metadata": {},
     "output_type": "execute_result"
    }
   ],
   "source": [
    "tf.global_variables()"
   ]
  },
  {
   "cell_type": "code",
   "execution_count": null,
   "metadata": {},
   "outputs": [],
   "source": []
  }
 ],
 "metadata": {
  "kernelspec": {
   "display_name": "Python 3",
   "language": "python",
   "name": "python3"
  },
  "language_info": {
   "codemirror_mode": {
    "name": "ipython",
    "version": 3
   },
   "file_extension": ".py",
   "mimetype": "text/x-python",
   "name": "python",
   "nbconvert_exporter": "python",
   "pygments_lexer": "ipython3",
   "version": "3.6.7"
  }
 },
 "nbformat": 4,
 "nbformat_minor": 2
}
